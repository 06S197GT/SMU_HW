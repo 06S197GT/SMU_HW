{
 "cells": [
  {
   "cell_type": "markdown",
   "metadata": {},
   "source": [
    "# Mars Web Scrape"
   ]
  },
  {
   "cell_type": "code",
   "execution_count": 12,
   "metadata": {},
   "outputs": [],
   "source": [
    "from splinter import Browser\n",
    "from bs4 import BeautifulSoup as bs\n",
    "import time\n",
    "import datetime\n",
    "import pandas as pd\n",
    "from datetime import datetime\n",
    "import json\n",
    "import time"
   ]
  },
  {
   "cell_type": "markdown",
   "metadata": {},
   "source": [
    "# #Begin by scraping Nasa"
   ]
  },
  {
   "cell_type": "code",
   "execution_count": 121,
   "metadata": {},
   "outputs": [],
   "source": [
    "#run the chromedriver and open a browser.\n",
    "#define and visit the url to be scraped.\n",
    "executable_path = {'executable_path': \"chromedriver.exe\"}\n",
    "browser = Browser('chrome', **executable_path, headless=False)\n",
    "url = \"https://mars.nasa.gov/news/?page=0&per_page=40&order=publish_date+desc%2Ccreated_at+desc&search=&category=19%2C165%2C184%2C204&blank_scope=Latest\"\n",
    "browser.visit(url)"
   ]
  },
  {
   "cell_type": "code",
   "execution_count": 123,
   "metadata": {},
   "outputs": [],
   "source": [
    "#load the html and soupify it for scraping.\n",
    "html = browser.html\n",
    "soup = bs(html, 'lxml')"
   ]
  },
  {
   "cell_type": "code",
   "execution_count": 89,
   "metadata": {},
   "outputs": [],
   "source": [
    "#Add sleep timer (later) in final script.\n",
    "time.sleep(20)"
   ]
  },
  {
   "cell_type": "code",
   "execution_count": 124,
   "metadata": {},
   "outputs": [],
   "source": [
    "#Grab all titles.\n",
    "titles = soup.find_all(class_=\"content_title\")"
   ]
  },
  {
   "cell_type": "code",
   "execution_count": 125,
   "metadata": {},
   "outputs": [
    {
     "name": "stdout",
     "output_type": "stream",
     "text": [
      "<div class=\"content_title\"><a href=\"/news/8699/how-nasas-mars-helicopter-will-reach-the-red-planets-surface/\" target=\"_self\">How NASA's Mars Helicopter Will Reach the Red Planet's Surface</a></div>\n"
     ]
    }
   ],
   "source": [
    "#Get title for title in class \"content_title\"\n",
    "title = \"\"\n",
    "for head in titles:\n",
    "    if head.a:\n",
    "        title = head\n",
    "        break\n",
    "print(title)"
   ]
  },
  {
   "cell_type": "code",
   "execution_count": 126,
   "metadata": {},
   "outputs": [
    {
     "data": {
      "text/plain": [
       "\"How NASA's Mars Helicopter Will Reach the Red Planet's Surface\""
      ]
     },
     "execution_count": 126,
     "metadata": {},
     "output_type": "execute_result"
    }
   ],
   "source": [
    "#Strip html to extract only the article title\n",
    "titleTxt = title.text.strip()\n",
    "titleTxt"
   ]
  },
  {
   "cell_type": "code",
   "execution_count": 127,
   "metadata": {},
   "outputs": [
    {
     "name": "stdout",
     "output_type": "stream",
     "text": [
      "https://mars.nasa.gov/news/8699/how-nasas-mars-helicopter-will-reach-the-red-planets-surface/\n"
     ]
    }
   ],
   "source": [
    "#Find all article links\n",
    "article_link = f\"https://mars.nasa.gov{title.a['href']}\"\n",
    "print(article_link)"
   ]
  },
  {
   "cell_type": "code",
   "execution_count": 128,
   "metadata": {},
   "outputs": [
    {
     "data": {
      "text/plain": [
       "[<div class=\"article_teaser_body\">The small craft will seek to prove that powered, controlled flight is possible on another planet. But just getting it onto the surface of Mars will take a whole lot of ingenuity.</div>,\n",
       " <div class=\"article_teaser_body\">The Red Planet's surface has been visited by eight NASA spacecraft. The ninth will be the first that includes a roundtrip ticket in its flight plan. </div>,\n",
       " <div class=\"article_teaser_body\">Learn more about the agency's next Red Planet mission during a live event on June 17.</div>,\n",
       " <div class=\"article_teaser_body\">This new portrait of the Red Planet's neighbors was taken during a time when there's more dust in the air on Mars.</div>,\n",
       " <div class=\"article_teaser_body\">Using an online tool to label Martian terrain types, you can train an artificial intelligence algorithm that could improve the way engineers guide the Curiosity rover.</div>,\n",
       " <div class=\"article_teaser_body\">Taken with the infrared camera aboard NASA's Odyssey orbiter, they reveal temperature variations on the small moon as it drifts into and out of Mars’ shadow.</div>,\n",
       " <div class=\"article_teaser_body\">Two astronauts collected Moon rocks on Apollo 11. It will take three robotic systems working together to gather up the first Mars rock samples for return to Earth.</div>,\n",
       " <div class=\"article_teaser_body\">An instrument called SHERLOC will, with the help of its partner WATSON, hunt for signs of ancient life by detecting organic molecules and minerals.</div>,\n",
       " <div class=\"article_teaser_body\">Five years after NASA’s MAVEN spacecraft entered into orbit around Mars, data from the mission has led to the creation of a map of electric current systems in the Martian atmosphere.</div>,\n",
       " <div class=\"article_teaser_body\">A NASA Wallops Flight Facility cargo plane transported more than two tons of equipment — including the rover's sample collection tubes — to Florida for this summer's liftoff.</div>,\n",
       " <div class=\"article_teaser_body\">Winners include the JPL-managed \"Send Your Name to Mars\" campaign, NASA's Global Climate Change website and Solar System Interactive.</div>,\n",
       " <div class=\"article_teaser_body\">The agency's new Mars rover is put through a series of tests in vacuum chambers, acoustic chambers and more to get ready for the Red Planet.</div>,\n",
       " <div class=\"article_teaser_body\">Stacking spacecraft components on top of each other is one of the final assembly steps before a mission launches to the Red Planet. </div>,\n",
       " <div class=\"article_teaser_body\">Team members searched for signs of ancient microscopic life there, just as NASA's latest rover will on the Red Planet next year.</div>,\n",
       " <div class=\"article_teaser_body\">A pair of zoomable cameras will help scientists and rover drivers with high-resolution color images.</div>,\n",
       " <div class=\"article_teaser_body\">These are the scientists and engineers who built NASA's next Mars rover and who will guide it to a safe landing in Jezero Crater. </div>,\n",
       " <div class=\"article_teaser_body\">As a longtime fan of space exploration, Vaneeza Rupani appreciates the creativity and collaboration involved with trying to fly on another planet.</div>,\n",
       " <div class=\"article_teaser_body\">Vaneeza Rupani's essay was chosen as the name for the small spacecraft, which will mark NASA's first attempt at powered flight on another planet.</div>,\n",
       " <div class=\"article_teaser_body\">Like much of the rest of the world, the Mars rover team is pushing forward with its mission-critical work while putting the health and safety of their colleagues and community first.</div>,\n",
       " <div class=\"article_teaser_body\">The mission team performed a crucial weight-balancing test on the rover in preparation for this summer's history-making launch to the Red Planet.</div>,\n",
       " <div class=\"article_teaser_body\">The team has learned to meet new challenges as they work remotely on the Mars mission.</div>,\n",
       " <div class=\"article_teaser_body\">The team also fueled the rover's sky crane to get ready for this summer's history-making launch.</div>,\n",
       " <div class=\"article_teaser_body\">After the rover was shipped from JPL to Kennedy Space Center, the team is getting closer to finalizing the spacecraft for launch later this summer.</div>,\n",
       " <div class=\"article_teaser_body\">The Mars Helicopter is riding to the Red Planet this summer with NASA's Perseverance rover. The helicopter's chief engineer, Bob Balaram, shares the saga of how it came into being.</div>,\n",
       " <div class=\"article_teaser_body\">As part of NASA's 'Send Your Name to Mars' campaign, they've been stenciled onto three microchips along with essays from NASA's 'Name the Rover' contest. Next stop: Mars.</div>,\n",
       " <div class=\"article_teaser_body\">Along with capturing an image before its steepest ascent ever, the robotic explorer filmed its \"selfie stick,\" or robotic arm, in action.</div>,\n",
       " <div class=\"article_teaser_body\">The system will be collecting and storing Martian rock and soil. Its installation marks another milestone in the march toward the July launch period.</div>,\n",
       " <div class=\"article_teaser_body\">NASA chose a seventh-grader from Virginia as winner of the agency's \"Name the Rover\" essay contest. Alexander Mather's entry for \"Perseverance\" was voted tops among 28,000 entries. </div>,\n",
       " <div class=\"article_teaser_body\">To go along with the stunning 1.8-billion-pixel image, a new video offers a sweeping view of the Red Planet.</div>,\n",
       " <div class=\"article_teaser_body\">After a months-long contest among students to name NASA's newest Mars rover, the agency will reveal the winning name — and the winning student — this Thursday. </div>,\n",
       " <div class=\"article_teaser_body\">The pair of briefcase-sized satellites made history when they sailed past Mars in 2019.</div>,\n",
       " <div class=\"article_teaser_body\">A batch of new papers summarizes the lander's findings above and below the surface of the Red Planet.</div>,\n",
       " <div class=\"article_teaser_body\">Engineers have a plan for pushing down on the heat probe, which has been stuck at the Martian surface for a year.</div>,\n",
       " <div class=\"article_teaser_body\">The following Q&amp;As with members of the team answer some of the most common questions about the burrowing device, part of a science instrument called the Heat Flow and Physical Properties Package (HP3).</div>,\n",
       " <div class=\"article_teaser_body\">The leadership council for Mars 2020 science added two new members who represent the interests of scientists destined to handle and study the first samples from Red Planet.</div>,\n",
       " <div class=\"article_teaser_body\">Other orbiters will continue relaying data from Mars surface missions for a two-week period.</div>,\n",
       " <div class=\"article_teaser_body\">The agency's first step in returning rocks from Mars just arrived at Kennedy Space Center. The Mars 2020 team now begins readying for a launch to the Red Planet this July.</div>,\n",
       " <div class=\"article_teaser_body\">Robotic spacecraft will be able to communicate with the dish using radio waves and lasers.</div>,\n",
       " <div class=\"article_teaser_body\">Jim Bridenstine addresses NASA's ambitious plans for the coming years, including Mars Sample Return.</div>,\n",
       " <div class=\"article_teaser_body\">SuperCam is a rock-vaporizing instrument that will help scientists hunt for Mars fossils.</div>]"
      ]
     },
     "execution_count": 128,
     "metadata": {},
     "output_type": "execute_result"
    }
   ],
   "source": [
    "#Find all article text.\n",
    "articles = soup.find_all(class_=\"article_teaser_body\")\n",
    "articles"
   ]
  },
  {
   "cell_type": "markdown",
   "metadata": {},
   "source": [
    "# # Begin JPL image scraper"
   ]
  },
  {
   "cell_type": "code",
   "execution_count": 129,
   "metadata": {},
   "outputs": [],
   "source": [
    "#no need to run the chromedriver again as it is still running from first site scrape.\n",
    "#define and visit the url to be scraped.\n",
    "#load the html and soupify it for scraping.\n",
    "url = \"https://www.jpl.nasa.gov/spaceimages/?search=&category=Mars\"\n",
    "browser.visit(url)\n",
    "html = browser.html\n",
    "soup = bs(html, 'lxml')"
   ]
  },
  {
   "cell_type": "code",
   "execution_count": 130,
   "metadata": {},
   "outputs": [],
   "source": [
    "#Find all images and filter to featured image partial href\n",
    "images = soup.find(class_='carousel_item')\n",
    "main_img = images['style'].split()[1].split(\"'\")[1]"
   ]
  },
  {
   "cell_type": "code",
   "execution_count": 131,
   "metadata": {},
   "outputs": [
    {
     "name": "stdout",
     "output_type": "stream",
     "text": [
      "https://www.jpl.nasa.gov/spaceimages/images/wallpaper/PIA18816-1920x1200.jpg\n"
     ]
    }
   ],
   "source": [
    "#construct full image link\n",
    "featured_image = f\"https://www.jpl.nasa.gov{main_img}\"\n",
    "print(image)"
   ]
  },
  {
   "cell_type": "markdown",
   "metadata": {},
   "source": [
    "# Scrape next site: Twitter"
   ]
  },
  {
   "cell_type": "code",
   "execution_count": 132,
   "metadata": {},
   "outputs": [],
   "source": [
    "#no need to run the chromedriver again as it is still running from first site scrape.\n",
    "#define and visit the url to be scraped.\n",
    "#load the html and soupify it for scraping.\n",
    "url = \"https://twitter.com/marswxreport?lang=en\"\n",
    "browser.visit(url)\n",
    "html = browser.html\n",
    "soup = bs(html, \"lxml\")"
   ]
  },
  {
   "cell_type": "code",
   "execution_count": 135,
   "metadata": {},
   "outputs": [
    {
     "data": {
      "text/plain": [
       "137"
      ]
     },
     "execution_count": 135,
     "metadata": {},
     "output_type": "execute_result"
    }
   ],
   "source": [
    "#Find all tweet data\n",
    "tweets = browser.find_by_tag(\"span\")\n",
    "len(tweets)"
   ]
  },
  {
   "cell_type": "code",
   "execution_count": 136,
   "metadata": {},
   "outputs": [
    {
     "name": "stdout",
     "output_type": "stream",
     "text": [
      "InSight sol 565 (2020-06-28) low -89.6ºC (-129.3ºF) high -5.0ºC (22.9ºF)\n",
      "winds from the WNW at 4.5 m/s (10.0 mph) gusting to 17.6 m/s (39.4 mph)\n",
      "pressure at 7.60 hPa\n"
     ]
    }
   ],
   "source": [
    "#Filter tweet data by tweet text\n",
    "tweetText = \"\"\n",
    "\n",
    "for tweet in tweets:\n",
    "    if tweet.text:\n",
    "        if \"InSight sol\" in tweet.text:\n",
    "            tweetText = tweet.text\n",
    "            break\n",
    "print(tweetText)"
   ]
  },
  {
   "cell_type": "code",
   "execution_count": 139,
   "metadata": {},
   "outputs": [
    {
     "data": {
      "text/plain": [
       "51"
      ]
     },
     "execution_count": 139,
     "metadata": {},
     "output_type": "execute_result"
    }
   ],
   "source": [
    "#Find all tweet links\n",
    "links = browser.find_by_tag(\"a\")\n",
    "len(links)"
   ]
  },
  {
   "cell_type": "code",
   "execution_count": 140,
   "metadata": {},
   "outputs": [
    {
     "name": "stdout",
     "output_type": "stream",
     "text": [
      "https://www.twitter.comhttps://twitter.com/MarsWxReport/status/1278114850401591297\n"
     ]
    }
   ],
   "source": [
    "#Extract all tweet partial href and build full full link\n",
    "tweeters = \"\"\n",
    "\n",
    "for link in links:\n",
    "    if link['href']:\n",
    "        if \"status\" in link['href']:\n",
    "            tweeters = f\"https://www.twitter.com{link['href']}\"\n",
    "            break\n",
    "print(tweeters)"
   ]
  },
  {
   "cell_type": "markdown",
   "metadata": {},
   "source": [
    "# # Scrape next site: Space-Facts"
   ]
  },
  {
   "cell_type": "code",
   "execution_count": 141,
   "metadata": {},
   "outputs": [],
   "source": [
    "#no need to run the chromedriver again as it is still running from first site scrape.\n",
    "#define and visit the url to be scraped.\n",
    "#load the html and soupify it for scraping.\n",
    "url = \"https://space-facts.com/mars/\"\n",
    "browser.visit(url)\n",
    "html = browser.html"
   ]
  },
  {
   "cell_type": "code",
   "execution_count": 142,
   "metadata": {},
   "outputs": [
    {
     "data": {
      "text/html": [
       "<div>\n",
       "<style scoped>\n",
       "    .dataframe tbody tr th:only-of-type {\n",
       "        vertical-align: middle;\n",
       "    }\n",
       "\n",
       "    .dataframe tbody tr th {\n",
       "        vertical-align: top;\n",
       "    }\n",
       "\n",
       "    .dataframe thead th {\n",
       "        text-align: right;\n",
       "    }\n",
       "</style>\n",
       "<table border=\"1\" class=\"dataframe\">\n",
       "  <thead>\n",
       "    <tr style=\"text-align: right;\">\n",
       "      <th></th>\n",
       "      <th>Data</th>\n",
       "      <th>Values</th>\n",
       "    </tr>\n",
       "  </thead>\n",
       "  <tbody>\n",
       "    <tr>\n",
       "      <th>0</th>\n",
       "      <td>Equatorial Diameter:</td>\n",
       "      <td>6,792 km</td>\n",
       "    </tr>\n",
       "    <tr>\n",
       "      <th>1</th>\n",
       "      <td>Polar Diameter:</td>\n",
       "      <td>6,752 km</td>\n",
       "    </tr>\n",
       "    <tr>\n",
       "      <th>2</th>\n",
       "      <td>Mass:</td>\n",
       "      <td>6.39 × 10^23 kg (0.11 Earths)</td>\n",
       "    </tr>\n",
       "    <tr>\n",
       "      <th>3</th>\n",
       "      <td>Moons:</td>\n",
       "      <td>2 (Phobos &amp; Deimos)</td>\n",
       "    </tr>\n",
       "    <tr>\n",
       "      <th>4</th>\n",
       "      <td>Orbit Distance:</td>\n",
       "      <td>227,943,824 km (1.38 AU)</td>\n",
       "    </tr>\n",
       "    <tr>\n",
       "      <th>5</th>\n",
       "      <td>Orbit Period:</td>\n",
       "      <td>687 days (1.9 years)</td>\n",
       "    </tr>\n",
       "    <tr>\n",
       "      <th>6</th>\n",
       "      <td>Surface Temperature:</td>\n",
       "      <td>-87 to -5 °C</td>\n",
       "    </tr>\n",
       "    <tr>\n",
       "      <th>7</th>\n",
       "      <td>First Record:</td>\n",
       "      <td>2nd millennium BC</td>\n",
       "    </tr>\n",
       "    <tr>\n",
       "      <th>8</th>\n",
       "      <td>Recorded By:</td>\n",
       "      <td>Egyptian astronomers</td>\n",
       "    </tr>\n",
       "  </tbody>\n",
       "</table>\n",
       "</div>"
      ],
      "text/plain": [
       "                   Data                         Values\n",
       "0  Equatorial Diameter:                       6,792 km\n",
       "1       Polar Diameter:                       6,752 km\n",
       "2                 Mass:  6.39 × 10^23 kg (0.11 Earths)\n",
       "3                Moons:            2 (Phobos & Deimos)\n",
       "4       Orbit Distance:       227,943,824 km (1.38 AU)\n",
       "5         Orbit Period:           687 days (1.9 years)\n",
       "6  Surface Temperature:                   -87 to -5 °C\n",
       "7         First Record:              2nd millennium BC\n",
       "8          Recorded By:           Egyptian astronomers"
      ]
     },
     "execution_count": 142,
     "metadata": {},
     "output_type": "execute_result"
    }
   ],
   "source": [
    "#Create dataframe from html using pandas\n",
    "mars_df = pd.read_html(html)[0]\n",
    "mars_df.columns = [\"Data\", \"Values\"]\n",
    "mars_df"
   ]
  },
  {
   "cell_type": "markdown",
   "metadata": {},
   "source": [
    "# # Scrape final page: Astrogeology"
   ]
  },
  {
   "cell_type": "code",
   "execution_count": 168,
   "metadata": {},
   "outputs": [],
   "source": [
    "#no need to run the chromedriver again as it is still running from first site scrape.\n",
    "#define and visit the url to be scraped.\n",
    "#load the html and soupify it for scraping.\n",
    "url = \"https://astrogeology.usgs.gov/search/results?q=hemisphere+enhanced&k1=target&v1=Mars\"\n",
    "browser.visit(url)\n",
    "html = browser.html\n",
    "soup = bs(html, \"lxml\")"
   ]
  },
  {
   "cell_type": "code",
   "execution_count": 170,
   "metadata": {},
   "outputs": [
    {
     "data": {
      "text/plain": [
       "[<a class=\"itemLink product-item\" href=\"/search/map/Mars/Viking/cerberus_enhanced\"><img alt=\"Cerberus Hemisphere Enhanced thumbnail\" class=\"thumb\" src=\"/cache/images/39d3266553462198bd2fbc4d18fbed17_cerberus_enhanced.tif_thumb.png\"/></a>,\n",
       " <a class=\"itemLink product-item\" href=\"/search/map/Mars/Viking/cerberus_enhanced\"><h3>Cerberus Hemisphere Enhanced</h3></a>,\n",
       " <a class=\"itemLink product-item\" href=\"/search/map/Mars/Viking/schiaparelli_enhanced\"><img alt=\"Schiaparelli Hemisphere Enhanced thumbnail\" class=\"thumb\" src=\"/cache/images/08eac6e22c07fb1fe72223a79252de20_schiaparelli_enhanced.tif_thumb.png\"/></a>,\n",
       " <a class=\"itemLink product-item\" href=\"/search/map/Mars/Viking/schiaparelli_enhanced\"><h3>Schiaparelli Hemisphere Enhanced</h3></a>,\n",
       " <a class=\"itemLink product-item\" href=\"/search/map/Mars/Viking/syrtis_major_enhanced\"><img alt=\"Syrtis Major Hemisphere Enhanced thumbnail\" class=\"thumb\" src=\"/cache/images/55a0a1e2796313fdeafb17c35925e8ac_syrtis_major_enhanced.tif_thumb.png\"/></a>,\n",
       " <a class=\"itemLink product-item\" href=\"/search/map/Mars/Viking/syrtis_major_enhanced\"><h3>Syrtis Major Hemisphere Enhanced</h3></a>,\n",
       " <a class=\"itemLink product-item\" href=\"/search/map/Mars/Viking/valles_marineris_enhanced\"><img alt=\"Valles Marineris Hemisphere Enhanced thumbnail\" class=\"thumb\" src=\"/cache/images/4e59980c1c57f89c680c0e1ccabbeff1_valles_marineris_enhanced.tif_thumb.png\"/></a>,\n",
       " <a class=\"itemLink product-item\" href=\"/search/map/Mars/Viking/valles_marineris_enhanced\"><h3>Valles Marineris Hemisphere Enhanced</h3></a>]"
      ]
     },
     "execution_count": 170,
     "metadata": {},
     "output_type": "execute_result"
    }
   ],
   "source": [
    "#Find all links in main page\n",
    "page_data = soup.find_all(class_=\"product-item\")\n",
    "page_data"
   ]
  },
  {
   "cell_type": "code",
   "execution_count": 173,
   "metadata": {},
   "outputs": [
    {
     "name": "stdout",
     "output_type": "stream",
     "text": [
      "['/search/map/Mars/Viking/valles_marineris_enhanced', '/search/map/Mars/Viking/schiaparelli_enhanced', '/search/map/Mars/Viking/cerberus_enhanced', '/search/map/Mars/Viking/syrtis_major_enhanced']\n"
     ]
    }
   ],
   "source": [
    "#Find partial hrefs to hemisphere page and add to list, delete duplicates using list/set\n",
    "img_src = []\n",
    "\n",
    "for href in page_data:\n",
    "    if href['href']:\n",
    "        if \"Viking\" in href['href']:\n",
    "            img_src.append(href['href'])\n",
    "            \n",
    "print(list(set(img_src)))"
   ]
  },
  {
   "cell_type": "code",
   "execution_count": 174,
   "metadata": {},
   "outputs": [
    {
     "name": "stdout",
     "output_type": "stream",
     "text": [
      "https://astrogeology.usgs.gov/search/map/Mars/Viking/valles_marineris_enhanced\n"
     ]
    }
   ],
   "source": [
    "#Create new web page using homepage and scraped hrefs\n",
    "base_page = \"https://astrogeology.usgs.gov\"\n",
    "image_page1 = f\"{base_page}{src_list[0]}\"\n",
    "print(image_page1)"
   ]
  },
  {
   "cell_type": "code",
   "execution_count": 185,
   "metadata": {},
   "outputs": [
    {
     "data": {
      "text/plain": [
       "'Valles Marineris Hemisphere Enhanced'"
      ]
     },
     "execution_count": 185,
     "metadata": {},
     "output_type": "execute_result"
    }
   ],
   "source": [
    "#Find hemisphere name in new page.\n",
    "hemi_title = soup.find(class_=\"title\").text\n",
    "hemi_title"
   ]
  },
  {
   "cell_type": "code",
   "execution_count": 187,
   "metadata": {},
   "outputs": [
    {
     "name": "stdout",
     "output_type": "stream",
     "text": [
      "['https://astrogeology.usgs.gov/cache/images/b3c7c6c9138f57b4756be9b9c43e3a48_valles_marineris_enhanced.tif_full.jpg', 'https://astrogeology.usgs.gov/cache/images/3778f7b43bbbc89d6e3cfabb3613ba93_schiaparelli_enhanced.tif_full.jpg', 'https://astrogeology.usgs.gov/cache/images/f5e372a36edfa389625da6d0cc25d905_cerberus_enhanced.tif_full.jpg', 'https://astrogeology.usgs.gov/cache/images/555e6403a6ddd7ba16ddb0e471cadcf7_syrtis_major_enhanced.tif_full.jpg']\n",
      "['Valles Marineris Hemisphere Enhanced', 'Schiaparelli Hemisphere Enhanced', 'Cerberus Hemisphere Enhanced', 'Syrtis Major Hemisphere Enhanced']\n"
     ]
    }
   ],
   "source": [
    "#Create for loop to loop through all pages and extract hemisphere names. Append to lists\n",
    "base_page = \"https://astrogeology.usgs.gov\"\n",
    "\n",
    "imageURL = []\n",
    "hemi_name = []\n",
    "for x in range(4):\n",
    "    image_page = f\"{base_page}{src_list[x]}\"\n",
    "    browser.visit(image_page)\n",
    "    html = browser.html\n",
    "    soup = bs(html, \"lxml\")\n",
    "    hemi_title = soup.find(class_=\"title\").text\n",
    "    hemi_name.append(hemi_title)\n",
    "    img_full = soup.find(\"img\", class_=\"wide-image\")[\"src\"]\n",
    "    imageURL.append(f\"{base_page}{img_full}\")\n",
    "print(imageURL)\n",
    "print(hemi_name)"
   ]
  },
  {
   "cell_type": "markdown",
   "metadata": {},
   "source": [
    "# # Scraping complete! Closing Browser"
   ]
  },
  {
   "cell_type": "code",
   "execution_count": 150,
   "metadata": {},
   "outputs": [],
   "source": [
    "browser.quit()"
   ]
  },
  {
   "cell_type": "code",
   "execution_count": 151,
   "metadata": {},
   "outputs": [],
   "source": [
    "#Compile all scripts into one large script for mars_app.\n",
    "def marsData():\n",
    "    #---------------------------------------------------Open Browser-------------------------------------------------------\n",
    "    executable_path = {'executable_path': \"chromedriver.exe\"}\n",
    "    browser = Browser('chrome', **executable_path, headless=True)\n",
    "    #--------------------------------------------------Nasa Site Scrape----------------------------------------------------\n",
    "    url = \"https://mars.nasa.gov/news/?page=0&per_page=40&order=publish_date+desc%2Ccreated_at+desc&search=&category=19%2C165%2C184%2C204&blank_scope=Latest\"\n",
    "    browser.visit(url)\n",
    "    \n",
    "    html = browser.html\n",
    "    soup = bs(html, 'lxml')\n",
    "    \n",
    "    titles = soup.find_all(class_=\"content_title\")\n",
    "    time.sleep(20)\n",
    "    articles = soup.find_all(class_=\"article_teaser_body\")\n",
    "\n",
    "    \n",
    "    title = \"\"\n",
    "    for head in titles:\n",
    "        if head.a:\n",
    "            title = head\n",
    "            break\n",
    "    \n",
    "    time.sleep(3)\n",
    "    \n",
    "    titleTxt = title.text\n",
    "    article_link = f\"https://mars.nasa.gov{title.a['href']}\"\n",
    "    articleTxt = articles[0].text\n",
    "    \n",
    "    #------------------------------------------------Now scrape JPL site --------------------------------------------------\n",
    "    url = \"https://www.jpl.nasa.gov/spaceimages/?search=&category=Mars\"\n",
    "    browser.visit(url)\n",
    "    html = browser.html\n",
    "    soup = bs(html, 'lxml')\n",
    "    \n",
    "    images = soup.find(class_='carousel_item')\n",
    "    main_img = images['style'].split()[1].split(\"'\")[1]\n",
    "    featured_image = f\"https://www.jpl.nasa.gov{main_img}\"\n",
    "    time.sleep(20)\n",
    "    #------------------------------------------------Next scrape twitter--------------------------------------------------\n",
    "    url = \"https://twitter.com/marswxreport?lang=en\"\n",
    "    browser.visit(url)\n",
    "    html = browser.html\n",
    "    soup = bs(html, \"lxml\")\n",
    "    \n",
    "    time.sleep(5)\n",
    "    \n",
    "    tweets = browser.find_by_tag(\"span\")   \n",
    "    tweetText = \"\" \n",
    "    for tweet in tweets:\n",
    "        if tweet.text:\n",
    "            if \"InSight sol\" in tweet.text:\n",
    "                tweetText = tweet.text\n",
    "                break\n",
    "    \n",
    "    time.sleep(6)\n",
    "    \n",
    "    links = browser.find_by_tag(\"a\")\n",
    "    tweeters = \"\"\n",
    "    for link in links:\n",
    "        if link['href']:\n",
    "            if \"status\" in link['href']:\n",
    "                tweeters = f\"https://www.twitter.com{link['href']}\"\n",
    "                break\n",
    "\n",
    "    #----------------------------------------Navigate to space-facts and scrape-------------------------------------------\n",
    "    url = \"https://space-facts.com/mars/\"\n",
    "    browser.visit(url)\n",
    "    html = browser.html\n",
    "    mars_df = pd.read_html(html)[0]\n",
    "    mars_df.columns = [\"Data\", \"Values\"]\n",
    "    \n",
    "    html_table = mars_df.to_html(index=False)\n",
    "    json.loads(mars_df.to_json(orient=\"records\"))\n",
    "    #-------------------------------------Scrape hemisphere data from astrogeology----------------------------------------\n",
    "    url = \"https://astrogeology.usgs.gov/search/results?q=hemisphere+enhanced&k1=target&v1=Mars\"\n",
    "    browser.visit(url)\n",
    "    html = browser.html\n",
    "    soup = bs(html, \"lxml\")\n",
    "    \n",
    "    page_data = soup.find_all(class_=\"product-item\")\n",
    "    \n",
    "    hemi_name = []\n",
    "    img_src = []\n",
    "    imageURL = []\n",
    "    \n",
    "    for href in page_data:\n",
    "        if href['href']:\n",
    "            if \"Viking\" in href['href']:\n",
    "                img_src.append(href['href'])\n",
    "\n",
    "    src_list = (list(set(img_src)))\n",
    "    \n",
    "    base_page = \"https://astrogeology.usgs.gov\"\n",
    "    \n",
    "    for x in range(4):\n",
    "        image_page = f\"{base_page}{src_list[x]}\"\n",
    "        browser.visit(image_page)\n",
    "        html = browser.html\n",
    "        soup = bs(html, \"lxml\")\n",
    "        hemi_title = soup.find(class_=\"title\").text\n",
    "        hemi_name.append(hemi_title)\n",
    "        img_full = soup.find(\"img\", class_=\"wide-image\")[\"src\"]\n",
    "        imageURL.append(f\"{base_page}{img_full}\")\n",
    "    \n",
    "    browser.quit()\n",
    "    \n",
    "    #-------------------------------------------Create dictionary for MongoDB---------------------------------------------\n",
    "    mars_dict = {\n",
    "        \"articleTitle\": titleTxt,\n",
    "        \"article_link\": article_link,\n",
    "        \"articleText\": articleTxt,\n",
    "        \"featuredimage_URL\": featured_image,\n",
    "        \"weatherTweetTxt\": tweetText,\n",
    "        \"weatherTweet_URL\": tweeters,\n",
    "        \"mars_html_stats\": html_table,\n",
    "        \"mars_json_stats\": json.loads(mars_df.to_json(orient=\"records\")),\n",
    "        \"hemispheres\": [{\"title\":hemi_name[0], \"img_url\": imageURL[0]},\n",
    "                        {\"title\":hemi_name[1], \"img_url\": imageURL[1]},\n",
    "                        {\"title\":hemi_name[2], \"img_url\": imageURL[2]},\n",
    "                        {\"title\":hemi_name[3], \"img_url\": imageURL[3]}],\n",
    "        \"data_scraped_on\": datetime.now()\n",
    "    }\n",
    "    return mars_dict"
   ]
  },
  {
   "cell_type": "code",
   "execution_count": 152,
   "metadata": {},
   "outputs": [],
   "source": [
    "#Call script\n",
    "mars_News = marsData()"
   ]
  },
  {
   "cell_type": "code",
   "execution_count": 153,
   "metadata": {},
   "outputs": [
    {
     "data": {
      "text/plain": [
       "{'articleTitle': \"How NASA's Mars Helicopter Will Reach the Red Planet's Surface\",\n",
       " 'article_link': 'https://mars.nasa.gov/news/8699/how-nasas-mars-helicopter-will-reach-the-red-planets-surface/',\n",
       " 'articleText': 'The small craft will seek to prove that powered, controlled flight is possible on another planet. But just getting it onto the surface of Mars will take a whole lot of ingenuity.',\n",
       " 'featuredimage_URL': 'https://www.jpl.nasa.gov/spaceimages/images/wallpaper/PIA18816-1920x1200.jpg',\n",
       " 'weatherTweetTxt': 'InSight sol 565 (2020-06-28) low -89.6ºC (-129.3ºF) high -5.0ºC (22.9ºF)\\nwinds from the WNW at 4.5 m/s (10.0 mph) gusting to 17.6 m/s (39.4 mph)\\npressure at 7.60 hPa',\n",
       " 'weatherTweet_URL': 'https://www.twitter.comhttps://twitter.com/MarsWxReport/status/1278114850401591297',\n",
       " 'mars_html_stats': '<table border=\"1\" class=\"dataframe\">\\n  <thead>\\n    <tr style=\"text-align: right;\">\\n      <th>Data</th>\\n      <th>Values</th>\\n    </tr>\\n  </thead>\\n  <tbody>\\n    <tr>\\n      <td>Equatorial Diameter:</td>\\n      <td>6,792 km</td>\\n    </tr>\\n    <tr>\\n      <td>Polar Diameter:</td>\\n      <td>6,752 km</td>\\n    </tr>\\n    <tr>\\n      <td>Mass:</td>\\n      <td>6.39 × 10^23 kg (0.11 Earths)</td>\\n    </tr>\\n    <tr>\\n      <td>Moons:</td>\\n      <td>2 (Phobos &amp; Deimos)</td>\\n    </tr>\\n    <tr>\\n      <td>Orbit Distance:</td>\\n      <td>227,943,824 km (1.38 AU)</td>\\n    </tr>\\n    <tr>\\n      <td>Orbit Period:</td>\\n      <td>687 days (1.9 years)</td>\\n    </tr>\\n    <tr>\\n      <td>Surface Temperature:</td>\\n      <td>-87 to -5 °C</td>\\n    </tr>\\n    <tr>\\n      <td>First Record:</td>\\n      <td>2nd millennium BC</td>\\n    </tr>\\n    <tr>\\n      <td>Recorded By:</td>\\n      <td>Egyptian astronomers</td>\\n    </tr>\\n  </tbody>\\n</table>',\n",
       " 'mars_json_stats': [{'Data': 'Equatorial Diameter:', 'Values': '6,792 km'},\n",
       "  {'Data': 'Polar Diameter:', 'Values': '6,752 km'},\n",
       "  {'Data': 'Mass:', 'Values': '6.39 × 10^23 kg (0.11 Earths)'},\n",
       "  {'Data': 'Moons:', 'Values': '2 (Phobos & Deimos)'},\n",
       "  {'Data': 'Orbit Distance:', 'Values': '227,943,824 km (1.38 AU)'},\n",
       "  {'Data': 'Orbit Period:', 'Values': '687 days (1.9 years)'},\n",
       "  {'Data': 'Surface Temperature:', 'Values': '-87 to -5 °C'},\n",
       "  {'Data': 'First Record:', 'Values': '2nd millennium BC'},\n",
       "  {'Data': 'Recorded By:', 'Values': 'Egyptian astronomers'}],\n",
       " 'hemispheres': [{'title': 'Cerberus Hemisphere Enhanced',\n",
       "   'img_url': 'https://astrogeology.usgs.gov/cache/images/b3c7c6c9138f57b4756be9b9c43e3a48_valles_marineris_enhanced.tif_full.jpg'},\n",
       "  {'title': 'Schiaparelli Hemisphere Enhanced',\n",
       "   'img_url': 'https://astrogeology.usgs.gov/cache/images/3778f7b43bbbc89d6e3cfabb3613ba93_schiaparelli_enhanced.tif_full.jpg'},\n",
       "  {'title': 'Syrtis Major Hemisphere Enhanced',\n",
       "   'img_url': 'https://astrogeology.usgs.gov/cache/images/f5e372a36edfa389625da6d0cc25d905_cerberus_enhanced.tif_full.jpg'},\n",
       "  {'title': 'Valles Marineris Hemisphere Enhanced',\n",
       "   'img_url': 'https://astrogeology.usgs.gov/cache/images/555e6403a6ddd7ba16ddb0e471cadcf7_syrtis_major_enhanced.tif_full.jpg'}],\n",
       " 'data_scraped_on': datetime.datetime(2020, 6, 30, 21, 4, 0, 65645)}"
      ]
     },
     "execution_count": 153,
     "metadata": {},
     "output_type": "execute_result"
    }
   ],
   "source": [
    "#Print script to make sure it works.\n",
    "mars_News"
   ]
  }
 ],
 "metadata": {
  "kernelspec": {
   "display_name": "Python 3",
   "language": "python",
   "name": "python3"
  },
  "language_info": {
   "codemirror_mode": {
    "name": "ipython",
    "version": 3
   },
   "file_extension": ".py",
   "mimetype": "text/x-python",
   "name": "python",
   "nbconvert_exporter": "python",
   "pygments_lexer": "ipython3",
   "version": "3.7.6"
  }
 },
 "nbformat": 4,
 "nbformat_minor": 4
}
