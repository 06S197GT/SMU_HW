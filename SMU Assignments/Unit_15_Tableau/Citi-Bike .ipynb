{
 "cells": [
  {
   "cell_type": "code",
   "execution_count": 1,
   "metadata": {},
   "outputs": [],
   "source": [
    "import pandas as pd\n",
    "import random"
   ]
  },
  {
   "cell_type": "code",
   "execution_count": 2,
   "metadata": {},
   "outputs": [
    {
     "name": "stdout",
     "output_type": "stream",
     "text": [
      "01\n",
      "02\n",
      "03\n",
      "04\n",
      "05\n",
      "06\n",
      "07\n",
      "08\n",
      "09\n",
      "10\n",
      "11\n",
      "12\n"
     ]
    }
   ],
   "source": [
    "citi_df = pd.DataFrame()\n",
    "\n",
    "year = \"2019\"\n",
    "for month in [\"01\",\"02\",\"03\",\"04\",\"05\",\"06\",\"07\",\"08\",\"09\",\"10\",\"11\",\"12\"]:\n",
    "    read = pd.read_csv(f\"Data/{year}{month}-citibike-tripdata.csv\")\n",
    "    read = read.sample(frac=.1, random_state = 28)\n",
    "    citi_df = citi_df.append(read)\n",
    "    print(month)"
   ]
  },
  {
   "cell_type": "code",
   "execution_count": 3,
   "metadata": {},
   "outputs": [
    {
     "data": {
      "text/html": [
       "<div>\n",
       "<style scoped>\n",
       "    .dataframe tbody tr th:only-of-type {\n",
       "        vertical-align: middle;\n",
       "    }\n",
       "\n",
       "    .dataframe tbody tr th {\n",
       "        vertical-align: top;\n",
       "    }\n",
       "\n",
       "    .dataframe thead th {\n",
       "        text-align: right;\n",
       "    }\n",
       "</style>\n",
       "<table border=\"1\" class=\"dataframe\">\n",
       "  <thead>\n",
       "    <tr style=\"text-align: right;\">\n",
       "      <th></th>\n",
       "      <th>tripduration</th>\n",
       "      <th>starttime</th>\n",
       "      <th>stoptime</th>\n",
       "      <th>start station id</th>\n",
       "      <th>start station name</th>\n",
       "      <th>start station latitude</th>\n",
       "      <th>start station longitude</th>\n",
       "      <th>end station id</th>\n",
       "      <th>end station name</th>\n",
       "      <th>end station latitude</th>\n",
       "      <th>end station longitude</th>\n",
       "      <th>bikeid</th>\n",
       "      <th>usertype</th>\n",
       "      <th>birth year</th>\n",
       "      <th>gender</th>\n",
       "    </tr>\n",
       "  </thead>\n",
       "  <tbody>\n",
       "    <tr>\n",
       "      <th>340065</th>\n",
       "      <td>189</td>\n",
       "      <td>2019-01-10 16:30:39.9380</td>\n",
       "      <td>2019-01-10 16:33:49.4820</td>\n",
       "      <td>3372.0</td>\n",
       "      <td>E 74 St &amp; 1 Ave</td>\n",
       "      <td>40.768974</td>\n",
       "      <td>-73.954823</td>\n",
       "      <td>3375.0</td>\n",
       "      <td>3 Ave &amp; E 72 St</td>\n",
       "      <td>40.769943</td>\n",
       "      <td>-73.960607</td>\n",
       "      <td>16292.0</td>\n",
       "      <td>Subscriber</td>\n",
       "      <td>1963.0</td>\n",
       "      <td>1.0</td>\n",
       "    </tr>\n",
       "    <tr>\n",
       "      <th>832323</th>\n",
       "      <td>208</td>\n",
       "      <td>2019-01-27 10:56:43.5890</td>\n",
       "      <td>2019-01-27 11:00:12.2780</td>\n",
       "      <td>3359.0</td>\n",
       "      <td>E 68 St &amp; Madison Ave</td>\n",
       "      <td>40.769157</td>\n",
       "      <td>-73.967035</td>\n",
       "      <td>3154.0</td>\n",
       "      <td>E 77 St &amp; 3 Ave</td>\n",
       "      <td>40.773142</td>\n",
       "      <td>-73.958562</td>\n",
       "      <td>35639.0</td>\n",
       "      <td>Subscriber</td>\n",
       "      <td>1987.0</td>\n",
       "      <td>1.0</td>\n",
       "    </tr>\n",
       "    <tr>\n",
       "      <th>206260</th>\n",
       "      <td>3893</td>\n",
       "      <td>2019-01-07 10:18:59.5910</td>\n",
       "      <td>2019-01-07 11:23:52.7680</td>\n",
       "      <td>3136.0</td>\n",
       "      <td>5 Ave &amp; E 63 St</td>\n",
       "      <td>40.766368</td>\n",
       "      <td>-73.971518</td>\n",
       "      <td>3136.0</td>\n",
       "      <td>5 Ave &amp; E 63 St</td>\n",
       "      <td>40.766368</td>\n",
       "      <td>-73.971518</td>\n",
       "      <td>29761.0</td>\n",
       "      <td>Customer</td>\n",
       "      <td>1990.0</td>\n",
       "      <td>1.0</td>\n",
       "    </tr>\n",
       "    <tr>\n",
       "      <th>562869</th>\n",
       "      <td>524</td>\n",
       "      <td>2019-01-17 10:09:24.0640</td>\n",
       "      <td>2019-01-17 10:18:08.1430</td>\n",
       "      <td>468.0</td>\n",
       "      <td>Broadway &amp; W 56 St</td>\n",
       "      <td>40.765265</td>\n",
       "      <td>-73.981923</td>\n",
       "      <td>3459.0</td>\n",
       "      <td>E 53 St &amp; 3 Ave</td>\n",
       "      <td>40.757632</td>\n",
       "      <td>-73.969306</td>\n",
       "      <td>18344.0</td>\n",
       "      <td>Subscriber</td>\n",
       "      <td>1994.0</td>\n",
       "      <td>1.0</td>\n",
       "    </tr>\n",
       "    <tr>\n",
       "      <th>28765</th>\n",
       "      <td>1871</td>\n",
       "      <td>2019-01-02 08:39:31.0470</td>\n",
       "      <td>2019-01-02 09:10:42.7980</td>\n",
       "      <td>3102.0</td>\n",
       "      <td>Driggs Ave &amp; Lorimer St</td>\n",
       "      <td>40.721791</td>\n",
       "      <td>-73.950415</td>\n",
       "      <td>278.0</td>\n",
       "      <td>Concord St &amp; Bridge St</td>\n",
       "      <td>40.697666</td>\n",
       "      <td>-73.984764</td>\n",
       "      <td>31057.0</td>\n",
       "      <td>Subscriber</td>\n",
       "      <td>1985.0</td>\n",
       "      <td>2.0</td>\n",
       "    </tr>\n",
       "  </tbody>\n",
       "</table>\n",
       "</div>"
      ],
      "text/plain": [
       "        tripduration                 starttime                  stoptime  \\\n",
       "340065           189  2019-01-10 16:30:39.9380  2019-01-10 16:33:49.4820   \n",
       "832323           208  2019-01-27 10:56:43.5890  2019-01-27 11:00:12.2780   \n",
       "206260          3893  2019-01-07 10:18:59.5910  2019-01-07 11:23:52.7680   \n",
       "562869           524  2019-01-17 10:09:24.0640  2019-01-17 10:18:08.1430   \n",
       "28765           1871  2019-01-02 08:39:31.0470  2019-01-02 09:10:42.7980   \n",
       "\n",
       "        start station id       start station name  start station latitude  \\\n",
       "340065            3372.0          E 74 St & 1 Ave               40.768974   \n",
       "832323            3359.0    E 68 St & Madison Ave               40.769157   \n",
       "206260            3136.0          5 Ave & E 63 St               40.766368   \n",
       "562869             468.0       Broadway & W 56 St               40.765265   \n",
       "28765             3102.0  Driggs Ave & Lorimer St               40.721791   \n",
       "\n",
       "        start station longitude  end station id        end station name  \\\n",
       "340065               -73.954823          3375.0         3 Ave & E 72 St   \n",
       "832323               -73.967035          3154.0         E 77 St & 3 Ave   \n",
       "206260               -73.971518          3136.0         5 Ave & E 63 St   \n",
       "562869               -73.981923          3459.0         E 53 St & 3 Ave   \n",
       "28765                -73.950415           278.0  Concord St & Bridge St   \n",
       "\n",
       "        end station latitude  end station longitude   bikeid    usertype  \\\n",
       "340065             40.769943             -73.960607  16292.0  Subscriber   \n",
       "832323             40.773142             -73.958562  35639.0  Subscriber   \n",
       "206260             40.766368             -73.971518  29761.0    Customer   \n",
       "562869             40.757632             -73.969306  18344.0  Subscriber   \n",
       "28765              40.697666             -73.984764  31057.0  Subscriber   \n",
       "\n",
       "        birth year  gender  \n",
       "340065      1963.0     1.0  \n",
       "832323      1987.0     1.0  \n",
       "206260      1990.0     1.0  \n",
       "562869      1994.0     1.0  \n",
       "28765       1985.0     2.0  "
      ]
     },
     "execution_count": 3,
     "metadata": {},
     "output_type": "execute_result"
    }
   ],
   "source": [
    "citi_df.head()"
   ]
  },
  {
   "cell_type": "code",
   "execution_count": 4,
   "metadata": {},
   "outputs": [
    {
     "data": {
      "text/plain": [
       "2031057"
      ]
     },
     "execution_count": 4,
     "metadata": {},
     "output_type": "execute_result"
    }
   ],
   "source": [
    "len(citi_df)"
   ]
  },
  {
   "cell_type": "code",
   "execution_count": null,
   "metadata": {},
   "outputs": [],
   "source": [
    "\n"
   ]
  },
  {
   "cell_type": "code",
   "execution_count": null,
   "metadata": {},
   "outputs": [],
   "source": []
  },
  {
   "cell_type": "code",
   "execution_count": 5,
   "metadata": {},
   "outputs": [],
   "source": [
    "citi_df.to_csv(\"citi-bike_tableau.csv\", index=False)"
   ]
  }
 ],
 "metadata": {
  "kernelspec": {
   "display_name": "Python 3",
   "language": "python",
   "name": "python3"
  },
  "language_info": {
   "codemirror_mode": {
    "name": "ipython",
    "version": 3
   },
   "file_extension": ".py",
   "mimetype": "text/x-python",
   "name": "python",
   "nbconvert_exporter": "python",
   "pygments_lexer": "ipython3",
   "version": "3.7.6"
  }
 },
 "nbformat": 4,
 "nbformat_minor": 4
}
